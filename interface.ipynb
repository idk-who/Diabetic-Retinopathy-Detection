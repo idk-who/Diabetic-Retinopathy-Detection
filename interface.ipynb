{
 "cells": [
  {
   "cell_type": "code",
   "execution_count": 1,
   "id": "25c4304a-c846-4ab6-b94d-4dd709ff9db9",
   "metadata": {},
   "outputs": [],
   "source": [
    "import torch\n",
    "import torchvision.models as models\n",
    "from torch import nn\n",
    "from torch.optim import lr_scheduler\n",
    "import torchvision\n",
    "from PIL import Image\n",
    "from torchvision import transforms"
   ]
  },
  {
   "cell_type": "code",
   "execution_count": null,
   "id": "301897f8-bdc0-4005-a469-01eeec41f8af",
   "metadata": {},
   "outputs": [],
   "source": []
  },
  {
   "cell_type": "markdown",
   "id": "c456e559-8046-416c-adfd-305d2e7956b7",
   "metadata": {},
   "source": [
    "## Importing Model"
   ]
  },
  {
   "cell_type": "code",
   "execution_count": 2,
   "id": "50b05726-8f37-45ad-8931-bf4f60f3a7a9",
   "metadata": {},
   "outputs": [],
   "source": [
    "device = torch.device(\"cuda\" if torch.cuda.is_available() else \"cpu\")"
   ]
  },
  {
   "cell_type": "code",
   "execution_count": 3,
   "id": "1f679871-f20f-4663-aae8-0077c096cfc1",
   "metadata": {},
   "outputs": [],
   "source": [
    "model = models.resnet152(weights=None)\n",
    "num_ftrs = model.fc.in_features\n",
    "out_ftrs = 5\n",
    "model.fc = nn.Sequential(nn.Linear(num_ftrs, 512),nn.ReLU(),nn.Linear(512,out_ftrs),nn.LogSoftmax(dim=1))\n",
    "criterion = nn.NLLLoss()\n",
    "optimizer = torch.optim.Adam(filter(lambda p:p.requires_grad,model.parameters()) , lr = 0.00001)\n",
    "scheduler = lr_scheduler.StepLR(optimizer, step_size=5, gamma=0.1)\n",
    "model.to(device);"
   ]
  },
  {
   "cell_type": "code",
   "execution_count": 4,
   "id": "059022d6-7de3-47e2-90e5-c3ec78f7f7c0",
   "metadata": {},
   "outputs": [],
   "source": [
    "for name,child in model.named_children():\n",
    "    if name in ['layer2','layer3','layer4','fc']:\n",
    "        #print(name + 'is unfrozen')\n",
    "        for param in child.parameters():\n",
    "            param.requires_grad = True\n",
    "    else:\n",
    "        #print(name + 'is frozen')\n",
    "        for param in child.parameters():\n",
    "            param.requires_grad = False"
   ]
  },
  {
   "cell_type": "code",
   "execution_count": 5,
   "id": "d8d88170-b6d8-4c95-a833-08e459f5b732",
   "metadata": {},
   "outputs": [],
   "source": [
    "optimizer = torch.optim.Adam(filter(lambda p:p.requires_grad,model.parameters()) , lr = 0.000001)\n",
    "scheduler = lr_scheduler.StepLR(optimizer, step_size=5, gamma=0.1)"
   ]
  },
  {
   "cell_type": "code",
   "execution_count": null,
   "id": "4482c2ad-8864-45bc-bcd4-82da6f0c5013",
   "metadata": {},
   "outputs": [],
   "source": []
  },
  {
   "cell_type": "code",
   "execution_count": 6,
   "id": "ae101fd6-4a61-4afe-8d80-b983bdb14774",
   "metadata": {},
   "outputs": [],
   "source": [
    "checkpoint = torch.load(f\"C:\\\\Users\\\\plm\\\\Downloads\\\\aptos2019-blindness-detection\\\\classifier.pt\",map_location='cpu')"
   ]
  },
  {
   "cell_type": "code",
   "execution_count": 7,
   "id": "3d429f0f-4dec-46c8-8f15-d4b65b041f68",
   "metadata": {},
   "outputs": [],
   "source": [
    "model.load_state_dict(checkpoint['model_state_dict'])\n",
    "optimizer.load_state_dict(checkpoint['optimizer_state_dict'])"
   ]
  },
  {
   "cell_type": "code",
   "execution_count": null,
   "id": "84b2425e-e9b2-4879-af10-08e2afc2993b",
   "metadata": {},
   "outputs": [],
   "source": []
  },
  {
   "cell_type": "code",
   "execution_count": 8,
   "id": "92467165-ceed-484e-b5b1-0126a2df61f7",
   "metadata": {},
   "outputs": [],
   "source": [
    "classes = ['No DR', 'Mild', 'Moderate', 'Severe', 'Proliferative DR']\n",
    "test_transforms = torchvision.transforms.Compose([\n",
    "    torchvision.transforms.Resize((224, 224)),\n",
    "    torchvision.transforms.RandomHorizontalFlip(p=0.5),\n",
    "    torchvision.transforms.ToTensor(),\n",
    "    torchvision.transforms.Normalize(mean=(0.485, 0.456, 0.406), std=(0.229, 0.224, 0.225))\n",
    "])"
   ]
  },
  {
   "cell_type": "code",
   "execution_count": null,
   "id": "e17d13d6-d34d-4860-8bf3-1441f9bebdb5",
   "metadata": {},
   "outputs": [],
   "source": []
  },
  {
   "cell_type": "code",
   "execution_count": 9,
   "id": "9479e105-49b4-420c-9494-4e433dbe0069",
   "metadata": {},
   "outputs": [],
   "source": [
    "def inference(model, file, transform, classes):\n",
    "    file = Image.open(file).convert('RGB')\n",
    "    img = transform(file).unsqueeze(0)\n",
    "    print('Transforming your image...')\n",
    "    device = torch.device(\"cuda\" if torch.cuda.is_available() else \"cpu\")\n",
    "    model.eval()\n",
    "    with torch.no_grad():\n",
    "        print('Passing your image to the model....')\n",
    "        out = model(img.to(device))\n",
    "        ps = torch.exp(out)\n",
    "        top_p, top_class = ps.topk(1, dim=1)\n",
    "        value = top_class.item()\n",
    "        print(\"Predicted Severity Value: \", value)\n",
    "        print(\"class is: \", classes[value])\n",
    "        return value, classes[value]"
   ]
  },
  {
   "cell_type": "code",
   "execution_count": null,
   "id": "64f42fb1-f2ee-4c01-8d4a-e15539e7de6e",
   "metadata": {},
   "outputs": [],
   "source": []
  },
  {
   "cell_type": "code",
   "execution_count": 10,
   "id": "e56a7f0f-a6f3-46db-9971-5de3fadb3646",
   "metadata": {},
   "outputs": [],
   "source": [
    "# x, y = inference(model, \"C:\\\\Users\\\\plm\\Downloads\\\\aptos2019-blindness-detection\\\\test_images\\\\fdde61dd1bde.png\", test_transforms, classes)"
   ]
  },
  {
   "cell_type": "code",
   "execution_count": 11,
   "id": "6c6caabf-4a80-43c6-a636-2c6b8f3448b4",
   "metadata": {},
   "outputs": [],
   "source": [
    "# x, y"
   ]
  },
  {
   "cell_type": "markdown",
   "id": "2bbc8880-bfc2-453d-8330-6caf2f9216dd",
   "metadata": {},
   "source": [
    "## Interface"
   ]
  },
  {
   "cell_type": "code",
   "execution_count": 12,
   "id": "fe9936c8-fcc8-49e1-a7ef-310b70e15dba",
   "metadata": {},
   "outputs": [],
   "source": [
    "def predict(image):\n",
    "    img = test_transforms(image).unsqueeze(0)\n",
    "    print('Transforming your image...')\n",
    "    device = torch.device(\"cuda\" if torch.cuda.is_available() else \"cpu\")\n",
    "    model.eval()\n",
    "    with torch.no_grad():\n",
    "        print('Passing your image to the model....')\n",
    "        out = model(img.to(device))\n",
    "        ps = torch.exp(out)\n",
    "        top_p, top_class = ps.topk(1, dim=1)\n",
    "        value = top_class.item()\n",
    "        print(\"Predicted Severity Value: \", value)\n",
    "        print(\"class is: \", classes[value])\n",
    "        print('Your image is printed:')\n",
    "        return classes[value]"
   ]
  },
  {
   "cell_type": "code",
   "execution_count": 13,
   "id": "88af57a6-45a0-4f0d-82ca-7d6aa6e3e16e",
   "metadata": {},
   "outputs": [
    {
     "name": "stderr",
     "output_type": "stream",
     "text": [
      "C:\\Users\\plm\\miniconda3\\envs\\EPICS_pr2\\lib\\site-packages\\tqdm\\auto.py:21: TqdmWarning: IProgress not found. Please update jupyter and ipywidgets. See https://ipywidgets.readthedocs.io/en/stable/user_install.html\n",
      "  from .autonotebook import tqdm as notebook_tqdm\n"
     ]
    }
   ],
   "source": [
    "import gradio as gr"
   ]
  },
  {
   "cell_type": "code",
   "execution_count": 14,
   "id": "67aaea6c-11e9-49f7-890c-eb3cabba043b",
   "metadata": {},
   "outputs": [
    {
     "name": "stdout",
     "output_type": "stream",
     "text": [
      "Running on local URL:  http://127.0.0.1:7860\n",
      "\n",
      "To create a public link, set `share=True` in `launch()`.\n"
     ]
    },
    {
     "data": {
      "text/html": [
       "<div><iframe src=\"http://127.0.0.1:7860/\" width=\"100%\" height=\"500\" allow=\"autoplay; camera; microphone; clipboard-read; clipboard-write;\" frameborder=\"0\" allowfullscreen></iframe></div>"
      ],
      "text/plain": [
       "<IPython.core.display.HTML object>"
      ]
     },
     "metadata": {},
     "output_type": "display_data"
    },
    {
     "data": {
      "text/plain": []
     },
     "execution_count": 14,
     "metadata": {},
     "output_type": "execute_result"
    },
    {
     "name": "stdout",
     "output_type": "stream",
     "text": [
      "Transforming your image...\n",
      "Passing your image to the model....\n",
      "Predicted Severity Value:  2\n",
      "class is:  Moderate\n",
      "Your image is printed:\n",
      "Transforming your image...\n",
      "Passing your image to the model....\n",
      "Predicted Severity Value:  3\n",
      "class is:  Severe\n",
      "Your image is printed:\n"
     ]
    }
   ],
   "source": [
    "gr.Interface(fn=predict,\n",
    "             inputs=gr.Image(type=\"pil\"),\n",
    "             outputs=gr.Label(num_top_classes=5),\n",
    "             examples=[f\"C:\\\\Users\\\\plm\\\\Downloads\\\\aptos2019-blindness-detection\\\\train_images\\\\ff8a0b45c789.png\", \n",
    "                       f\"C:\\\\Users\\\\plm\\\\Downloads\\\\aptos2019-blindness-detection\\\\train_images\\\\ffc04fed30e6.png\",\n",
    "                       f\"C:\\\\Users\\\\plm\\\\Downloads\\\\aptos2019-blindness-detection\\\\train_images\\\\fecf4c5ae84b.png\",\n",
    "                       f\"C:\\\\Users\\\\plm\\\\Downloads\\\\aptos2019-blindness-detection\\\\train_images\\\\0bf37ca3156a.png\",\n",
    "                       f\"C:\\\\Users\\\\plm\\\\Downloads\\\\aptos2019-blindness-detection\\\\train_images\\\\f6f433f3306f.png\"\n",
    "                      ]).launch()"
   ]
  },
  {
   "cell_type": "markdown",
   "id": "d0d43148-e465-4691-8d3a-00459983279a",
   "metadata": {},
   "source": [
    "## Aaditya End"
   ]
  },
  {
   "cell_type": "code",
   "execution_count": null,
   "id": "62899c1f-504c-450e-97b4-145c54cae135",
   "metadata": {},
   "outputs": [],
   "source": []
  }
 ],
 "metadata": {
  "kernelspec": {
   "display_name": "Python [conda env:EPICS_pr2]",
   "language": "python",
   "name": "conda-env-EPICS_pr2-py"
  },
  "language_info": {
   "codemirror_mode": {
    "name": "ipython",
    "version": 3
   },
   "file_extension": ".py",
   "mimetype": "text/x-python",
   "name": "python",
   "nbconvert_exporter": "python",
   "pygments_lexer": "ipython3",
   "version": "3.10.13"
  }
 },
 "nbformat": 4,
 "nbformat_minor": 5
}
